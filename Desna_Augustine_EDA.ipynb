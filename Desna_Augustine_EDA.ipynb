{
  "nbformat": 4,
  "nbformat_minor": 0,
  "metadata": {
    "colab": {
      "provenance": []
    },
    "kernelspec": {
      "name": "python3",
      "display_name": "Python 3"
    },
    "language_info": {
      "name": "python"
    }
  },
  "cells": [
    {
      "cell_type": "code",
      "execution_count": 1,
      "metadata": {
        "id": "2AQaci1GdpQC"
      },
      "outputs": [],
      "source": [
        "import pandas as pd\n",
        "import matplotlib.pyplot as plt\n",
        "import seaborn as sns\n",
        "import pandas as pd\n",
        "import matplotlib.pyplot as plt\n",
        "import seaborn as sns\n",
        "from sklearn.preprocessing import StandardScaler\n",
        "from sklearn.cluster import KMeans\n",
        "from sklearn.metrics import davies_bouldin_score\n",
        "from sklearn.neighbors import NearestNeighbors\n",
        "import json"
      ]
    },
    {
      "cell_type": "markdown",
      "source": [
        "# Load the datasets"
      ],
      "metadata": {
        "id": "pBmoWKn67uSC"
      }
    },
    {
      "cell_type": "code",
      "source": [
        "customers_df = pd.read_csv('/content/Customers.csv')\n",
        "products_df = pd.read_csv('/content/Products.csv')\n",
        "transactions_df = pd.read_csv('/content/Transactions.csv')"
      ],
      "metadata": {
        "id": "Z91ANJb67qu5"
      },
      "execution_count": 2,
      "outputs": []
    },
    {
      "cell_type": "markdown",
      "source": [
        "# Inspect the datasets"
      ],
      "metadata": {
        "id": "vIUB_ox4RSKL"
      }
    },
    {
      "cell_type": "code",
      "source": [
        "print(\"Customers Data:\")\n",
        "print(customers_df.head())\n",
        "print(customers_df.info())\n",
        "print(customers_df.describe())"
      ],
      "metadata": {
        "colab": {
          "base_uri": "https://localhost:8080/"
        },
        "id": "-_ZUfr_iRTRF",
        "outputId": "237f8048-a41d-4b31-9050-ba24e56efc02"
      },
      "execution_count": 3,
      "outputs": [
        {
          "output_type": "stream",
          "name": "stdout",
          "text": [
            "Customers Data:\n",
            "  CustomerID        CustomerName         Region  SignupDate\n",
            "0      C0001    Lawrence Carroll  South America  2022-07-10\n",
            "1      C0002      Elizabeth Lutz           Asia  2022-02-13\n",
            "2      C0003      Michael Rivera  South America  2024-03-07\n",
            "3      C0004  Kathleen Rodriguez  South America  2022-10-09\n",
            "4      C0005         Laura Weber           Asia  2022-08-15\n",
            "<class 'pandas.core.frame.DataFrame'>\n",
            "RangeIndex: 200 entries, 0 to 199\n",
            "Data columns (total 4 columns):\n",
            " #   Column        Non-Null Count  Dtype \n",
            "---  ------        --------------  ----- \n",
            " 0   CustomerID    200 non-null    object\n",
            " 1   CustomerName  200 non-null    object\n",
            " 2   Region        200 non-null    object\n",
            " 3   SignupDate    200 non-null    object\n",
            "dtypes: object(4)\n",
            "memory usage: 6.4+ KB\n",
            "None\n",
            "       CustomerID      CustomerName         Region  SignupDate\n",
            "count         200               200            200         200\n",
            "unique        200               200              4         179\n",
            "top         C0001  Lawrence Carroll  South America  2024-11-11\n",
            "freq            1                 1             59           3\n"
          ]
        }
      ]
    },
    {
      "cell_type": "code",
      "source": [
        "print(\"\\nProducts Data:\")\n",
        "print(products_df.head())\n",
        "print(products_df.info())\n",
        "print(products_df.describe())"
      ],
      "metadata": {
        "colab": {
          "base_uri": "https://localhost:8080/"
        },
        "id": "C5bCRRrVRYZC",
        "outputId": "56d3d4db-e6f4-4043-95fe-94c205552c77"
      },
      "execution_count": 4,
      "outputs": [
        {
          "output_type": "stream",
          "name": "stdout",
          "text": [
            "\n",
            "Products Data:\n",
            "  ProductID              ProductName     Category   Price\n",
            "0      P001     ActiveWear Biography        Books  169.30\n",
            "1      P002    ActiveWear Smartwatch  Electronics  346.30\n",
            "2      P003  ComfortLiving Biography        Books   44.12\n",
            "3      P004            BookWorld Rug   Home Decor   95.69\n",
            "4      P005          TechPro T-Shirt     Clothing  429.31\n",
            "<class 'pandas.core.frame.DataFrame'>\n",
            "RangeIndex: 100 entries, 0 to 99\n",
            "Data columns (total 4 columns):\n",
            " #   Column       Non-Null Count  Dtype  \n",
            "---  ------       --------------  -----  \n",
            " 0   ProductID    100 non-null    object \n",
            " 1   ProductName  100 non-null    object \n",
            " 2   Category     100 non-null    object \n",
            " 3   Price        100 non-null    float64\n",
            "dtypes: float64(1), object(3)\n",
            "memory usage: 3.3+ KB\n",
            "None\n",
            "            Price\n",
            "count  100.000000\n",
            "mean   267.551700\n",
            "std    143.219383\n",
            "min     16.080000\n",
            "25%    147.767500\n",
            "50%    292.875000\n",
            "75%    397.090000\n",
            "max    497.760000\n"
          ]
        }
      ]
    },
    {
      "cell_type": "code",
      "source": [
        "print(\"\\nTransactions Data:\")\n",
        "print(transactions_df.head())\n",
        "print(transactions_df.info())\n",
        "print(transactions_df.describe())"
      ],
      "metadata": {
        "colab": {
          "base_uri": "https://localhost:8080/"
        },
        "id": "8__iN5nrRbMC",
        "outputId": "c55258b0-d64a-4c55-a334-c062f17049e3"
      },
      "execution_count": 5,
      "outputs": [
        {
          "output_type": "stream",
          "name": "stdout",
          "text": [
            "\n",
            "Transactions Data:\n",
            "  TransactionID CustomerID ProductID      TransactionDate  Quantity  \\\n",
            "0        T00001      C0199      P067  2024-08-25 12:38:23         1   \n",
            "1        T00112      C0146      P067  2024-05-27 22:23:54         1   \n",
            "2        T00166      C0127      P067  2024-04-25 07:38:55         1   \n",
            "3        T00272      C0087      P067  2024-03-26 22:55:37         2   \n",
            "4        T00363      C0070      P067  2024-03-21 15:10:10         3   \n",
            "\n",
            "   TotalValue   Price  \n",
            "0      300.68  300.68  \n",
            "1      300.68  300.68  \n",
            "2      300.68  300.68  \n",
            "3      601.36  300.68  \n",
            "4      902.04  300.68  \n",
            "<class 'pandas.core.frame.DataFrame'>\n",
            "RangeIndex: 1000 entries, 0 to 999\n",
            "Data columns (total 7 columns):\n",
            " #   Column           Non-Null Count  Dtype  \n",
            "---  ------           --------------  -----  \n",
            " 0   TransactionID    1000 non-null   object \n",
            " 1   CustomerID       1000 non-null   object \n",
            " 2   ProductID        1000 non-null   object \n",
            " 3   TransactionDate  1000 non-null   object \n",
            " 4   Quantity         1000 non-null   int64  \n",
            " 5   TotalValue       1000 non-null   float64\n",
            " 6   Price            1000 non-null   float64\n",
            "dtypes: float64(2), int64(1), object(4)\n",
            "memory usage: 54.8+ KB\n",
            "None\n",
            "          Quantity   TotalValue       Price\n",
            "count  1000.000000  1000.000000  1000.00000\n",
            "mean      2.537000   689.995560   272.55407\n",
            "std       1.117981   493.144478   140.73639\n",
            "min       1.000000    16.080000    16.08000\n",
            "25%       2.000000   295.295000   147.95000\n",
            "50%       3.000000   588.880000   299.93000\n",
            "75%       4.000000  1011.660000   404.40000\n",
            "max       4.000000  1991.040000   497.76000\n"
          ]
        }
      ]
    },
    {
      "cell_type": "markdown",
      "source": [
        "# Check for missing values"
      ],
      "metadata": {
        "id": "kvyYHvCuRnS-"
      }
    },
    {
      "cell_type": "code",
      "source": [
        "print(\"\\nMissing Values in Customers:\")\n",
        "print(customers_df.isnull().sum())"
      ],
      "metadata": {
        "colab": {
          "base_uri": "https://localhost:8080/"
        },
        "id": "9aJNU5NBRoCy",
        "outputId": "de7e7563-37f6-4a84-9ec0-5b14b0a2925c"
      },
      "execution_count": 6,
      "outputs": [
        {
          "output_type": "stream",
          "name": "stdout",
          "text": [
            "\n",
            "Missing Values in Customers:\n",
            "CustomerID      0\n",
            "CustomerName    0\n",
            "Region          0\n",
            "SignupDate      0\n",
            "dtype: int64\n"
          ]
        }
      ]
    },
    {
      "cell_type": "code",
      "source": [
        "print(\"\\nMissing Values in Products:\")\n",
        "print(products_df.isnull().sum())"
      ],
      "metadata": {
        "colab": {
          "base_uri": "https://localhost:8080/"
        },
        "id": "-ueZ85SeRrUC",
        "outputId": "17f2498a-4946-4e6b-c2cb-77fdd60713bb"
      },
      "execution_count": 7,
      "outputs": [
        {
          "output_type": "stream",
          "name": "stdout",
          "text": [
            "\n",
            "Missing Values in Products:\n",
            "ProductID      0\n",
            "ProductName    0\n",
            "Category       0\n",
            "Price          0\n",
            "dtype: int64\n"
          ]
        }
      ]
    },
    {
      "cell_type": "code",
      "source": [
        "print(\"\\nMissing Values in Transactions:\")\n",
        "print(transactions_df.isnull().sum())"
      ],
      "metadata": {
        "colab": {
          "base_uri": "https://localhost:8080/"
        },
        "id": "HimOx1yhRtsy",
        "outputId": "d984fba5-a6f7-4679-a37f-67efc2fd019b"
      },
      "execution_count": 8,
      "outputs": [
        {
          "output_type": "stream",
          "name": "stdout",
          "text": [
            "\n",
            "Missing Values in Transactions:\n",
            "TransactionID      0\n",
            "CustomerID         0\n",
            "ProductID          0\n",
            "TransactionDate    0\n",
            "Quantity           0\n",
            "TotalValue         0\n",
            "Price              0\n",
            "dtype: int64\n"
          ]
        }
      ]
    },
    {
      "cell_type": "markdown",
      "source": [
        "# Data Cleaning - Convert date columns to datetime format"
      ],
      "metadata": {
        "id": "bYEQDMrNSAEq"
      }
    },
    {
      "cell_type": "code",
      "source": [
        "customers_df['SignupDate'] = pd.to_datetime(customers_df['SignupDate'])\n",
        "transactions_df['TransactionDate'] = pd.to_datetime(transactions_df['TransactionDate'])"
      ],
      "metadata": {
        "id": "3hexoP5HSA8X"
      },
      "execution_count": 9,
      "outputs": []
    },
    {
      "cell_type": "markdown",
      "source": [
        "# Check for duplicates"
      ],
      "metadata": {
        "id": "3sE2JaysSGAX"
      }
    },
    {
      "cell_type": "code",
      "source": [
        "print(\"\\nDuplicate Customers:\", customers_df.duplicated().sum())\n",
        "print(\"Duplicate Products:\", products_df.duplicated().sum())\n",
        "print(\"Duplicate Transactions:\", transactions_df.duplicated().sum())"
      ],
      "metadata": {
        "colab": {
          "base_uri": "https://localhost:8080/"
        },
        "id": "Q-iAYFVJSGqN",
        "outputId": "eb88be50-facc-4948-ebb7-e76d436800e5"
      },
      "execution_count": 10,
      "outputs": [
        {
          "output_type": "stream",
          "name": "stdout",
          "text": [
            "\n",
            "Duplicate Customers: 0\n",
            "Duplicate Products: 0\n",
            "Duplicate Transactions: 0\n"
          ]
        }
      ]
    },
    {
      "cell_type": "markdown",
      "source": [
        "\n",
        "# Summary statistics"
      ],
      "metadata": {
        "id": "6myL-hDlSLOL"
      }
    },
    {
      "cell_type": "code",
      "source": [
        "print(\"\\nTransaction Value Statistics:\")\n",
        "print(transactions_df['TotalValue'].describe())"
      ],
      "metadata": {
        "colab": {
          "base_uri": "https://localhost:8080/"
        },
        "id": "mV6qEfXESQuY",
        "outputId": "37c33eb1-49c7-4e35-f76d-4ae5fa21b604"
      },
      "execution_count": 11,
      "outputs": [
        {
          "output_type": "stream",
          "name": "stdout",
          "text": [
            "\n",
            "Transaction Value Statistics:\n",
            "count    1000.000000\n",
            "mean      689.995560\n",
            "std       493.144478\n",
            "min        16.080000\n",
            "25%       295.295000\n",
            "50%       588.880000\n",
            "75%      1011.660000\n",
            "max      1991.040000\n",
            "Name: TotalValue, dtype: float64\n"
          ]
        }
      ]
    },
    {
      "cell_type": "markdown",
      "source": [
        "# Visualizations"
      ],
      "metadata": {
        "id": "rN2ssj6RSWP5"
      }
    },
    {
      "cell_type": "code",
      "source": [
        "#Customer Distribution by Region\n",
        "plt.figure(figsize=(10,6))\n",
        "sns.countplot(x='Region', data=customers_df)\n",
        "plt.title('Customer Distribution by Region')\n",
        "plt.show()"
      ],
      "metadata": {
        "colab": {
          "base_uri": "https://localhost:8080/",
          "height": 564
        },
        "id": "a_6_p3WW5flt",
        "outputId": "a089c1a6-8b30-4cf0-c3fc-3a1a79a3240f"
      },
      "execution_count": 12,
      "outputs": [
        {
          "output_type": "display_data",
          "data": {
            "text/plain": [
              "<Figure size 1000x600 with 1 Axes>"
            ],
            "image/png": "[encoded data removed]"
          },
          "metadata": {}
        }
      ]
    },
    {
      "cell_type": "code",
      "source": [
        "#Product Distribution by Category\n",
        "plt.figure(figsize=(10,6))\n",
        "sns.countplot(x='Category', data=products_df)\n",
        "plt.title('Product Distribution by Category')\n",
        "plt.show()"
      ],
      "metadata": {
        "colab": {
          "base_uri": "https://localhost:8080/",
          "height": 564
        },
        "id": "avm1DpXM5xIQ",
        "outputId": "5372f09d-4a03-4bd4-9968-121b19bb0b7d"
      },
      "execution_count": 13,
      "outputs": [
        {
          "output_type": "display_data",
          "data": {
            "text/plain": [
              "<Figure size 1000x600 with 1 Axes>"
            ],
            "image/png": "[encoded data removed]"
          },
          "metadata": {}
        }
      ]
    },
    {
      "cell_type": "code",
      "source": [
        "#Transaction Value Distribution\n",
        "plt.figure(figsize=(10,6))\n",
        "sns.histplot(transactions_df['TotalValue'], bins=50, kde=True)\n",
        "plt.title('Transaction Value Distribution')\n",
        "plt.show()"
      ],
      "metadata": {
        "colab": {
          "base_uri": "https://localhost:8080/",
          "height": 564
        },
        "id": "rIoxMRKJ5534",
        "outputId": "f3884dfe-9534-4495-d67b-c7737ff80642"
      },
      "execution_count": 14,
      "outputs": [
        {
          "output_type": "display_data",
          "data": {
            "text/plain": [
              "<Figure size 1000x600 with 1 Axes>"
            ],
            "image/png": "[encoded data removed]"
          },
          "metadata": {}
        }
      ]
    },
    {
      "cell_type": "code",
      "source": [],
      "metadata": {
        "id": "wFosfnox550e"
      },
      "execution_count": 14,
      "outputs": []
    }
  ]
}